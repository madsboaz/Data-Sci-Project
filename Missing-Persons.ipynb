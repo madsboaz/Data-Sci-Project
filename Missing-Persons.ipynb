{
 "cells": [
  {
   "cell_type": "markdown",
   "id": "0b9dc081-1126-412b-8845-c3bcf31417db",
   "metadata": {},
   "source": [
    "This is a data science project that explores trends in missing persons cases. The data was acquired from Kaggle and NamUs."
   ]
  },
  {
   "cell_type": "code",
   "execution_count": null,
   "id": "e1980fb7-8f5b-4dda-a9b4-a46cc21b62f4",
   "metadata": {},
   "outputs": [],
   "source": [
    "import pandas as pd\n",
    "\n",
    "from sklearn.preprocessing import LabelEncoder\n",
    "\n",
    "missing = pd.read_csv('missing_illinois.csv')\n",
    "\n",
    "missing.drop(labels='Case Number', axis=1, inplace=True)\n",
    "\n",
    "missing.drop(labels='Last Name', axis=1, inplace=True)\n",
    "\n",
    "missing.drop(labels='First Name', axis=1, inplace=True)\n",
    "\n",
    "missing.drop(labels='State', axis=1, inplace=True)\n",
    "\n",
    "missing['Missing Age'] = missing['Missing Age'].str.replace(r'\\D', '', regex=True).astype(float).astype(int)\n",
    "\n",
    "missing['Sex'] = missing['Sex'].replace({'Male': 0, 'Female': 1})\n",
    "\n",
    "# Create an instance of LabelEncoder\n",
    "\n",
    "label_encoder = LabelEncoder()\n",
    "\n",
    "missing['County'] = label_encoder.fit_transform(missing['County'].fillna('Unknown'))\n",
    "\n",
    "missing['Race / Ethnicity'] = label_encoder.fit_transform(missing['Race / Ethnicity'].fillna('Unknown'))\n",
    "\n",
    "missing['City'] = label_encoder.fit_transform(missing['City'].fillna('Unknown'))\n",
    "\n",
    "missing['Date Modified'] = missing['Date Modified'].str.replace('/', '')\n",
    "\n",
    "missing['DLC'] = missing['DLC'].str.replace('/', '')\n",
    "\n",
    "missing\n"
   ]
  },
  {
   "cell_type": "code",
   "execution_count": 11,
   "id": "cad3e784-2f25-4024-af00-61d9e2f63bd2",
   "metadata": {},
   "outputs": [
    {
     "data": {
      "text/html": [
       "<div>\n",
       "<style scoped>\n",
       "    .dataframe tbody tr th:only-of-type {\n",
       "        vertical-align: middle;\n",
       "    }\n",
       "\n",
       "    .dataframe tbody tr th {\n",
       "        vertical-align: top;\n",
       "    }\n",
       "\n",
       "    .dataframe thead th {\n",
       "        text-align: right;\n",
       "    }\n",
       "</style>\n",
       "<table border=\"1\" class=\"dataframe\">\n",
       "  <thead>\n",
       "    <tr style=\"text-align: right;\">\n",
       "      <th></th>\n",
       "      <th>DLC</th>\n",
       "      <th>Missing Age</th>\n",
       "      <th>City</th>\n",
       "      <th>County</th>\n",
       "      <th>Sex</th>\n",
       "      <th>Race / Ethnicity</th>\n",
       "      <th>Date Modified</th>\n",
       "    </tr>\n",
       "  </thead>\n",
       "  <tbody>\n",
       "    <tr>\n",
       "      <th>0</th>\n",
       "      <td>-0.939548</td>\n",
       "      <td>-0.062693</td>\n",
       "      <td>-0.301749</td>\n",
       "      <td>1.712137</td>\n",
       "      <td>-0.875190</td>\n",
       "      <td>0.674612</td>\n",
       "      <td>-0.867752</td>\n",
       "    </tr>\n",
       "    <tr>\n",
       "      <th>1</th>\n",
       "      <td>-0.942423</td>\n",
       "      <td>-0.729809</td>\n",
       "      <td>1.875913</td>\n",
       "      <td>0.551229</td>\n",
       "      <td>-0.875190</td>\n",
       "      <td>0.674612</td>\n",
       "      <td>-1.079220</td>\n",
       "    </tr>\n",
       "    <tr>\n",
       "      <th>2</th>\n",
       "      <td>-1.252929</td>\n",
       "      <td>0.665070</td>\n",
       "      <td>0.880410</td>\n",
       "      <td>0.001325</td>\n",
       "      <td>-0.875190</td>\n",
       "      <td>0.674612</td>\n",
       "      <td>-0.849014</td>\n",
       "    </tr>\n",
       "    <tr>\n",
       "      <th>3</th>\n",
       "      <td>-1.252929</td>\n",
       "      <td>0.058601</td>\n",
       "      <td>0.880410</td>\n",
       "      <td>0.001325</td>\n",
       "      <td>1.142609</td>\n",
       "      <td>0.674612</td>\n",
       "      <td>-0.849014</td>\n",
       "    </tr>\n",
       "    <tr>\n",
       "      <th>4</th>\n",
       "      <td>-1.252929</td>\n",
       "      <td>-0.365927</td>\n",
       "      <td>-0.239530</td>\n",
       "      <td>-0.731880</td>\n",
       "      <td>-0.875190</td>\n",
       "      <td>0.674612</td>\n",
       "      <td>-1.124726</td>\n",
       "    </tr>\n",
       "    <tr>\n",
       "      <th>...</th>\n",
       "      <td>...</td>\n",
       "      <td>...</td>\n",
       "      <td>...</td>\n",
       "      <td>...</td>\n",
       "      <td>...</td>\n",
       "      <td>...</td>\n",
       "      <td>...</td>\n",
       "    </tr>\n",
       "    <tr>\n",
       "      <th>410</th>\n",
       "      <td>0.198956</td>\n",
       "      <td>-1.033044</td>\n",
       "      <td>-0.737282</td>\n",
       "      <td>-0.731880</td>\n",
       "      <td>1.142609</td>\n",
       "      <td>0.674612</td>\n",
       "      <td>1.043494</td>\n",
       "    </tr>\n",
       "    <tr>\n",
       "      <th>411</th>\n",
       "      <td>-0.128801</td>\n",
       "      <td>-0.487221</td>\n",
       "      <td>-0.737282</td>\n",
       "      <td>-0.731880</td>\n",
       "      <td>1.142609</td>\n",
       "      <td>0.674612</td>\n",
       "      <td>-0.008495</td>\n",
       "    </tr>\n",
       "    <tr>\n",
       "      <th>412</th>\n",
       "      <td>0.802715</td>\n",
       "      <td>0.847011</td>\n",
       "      <td>0.320440</td>\n",
       "      <td>2.078740</td>\n",
       "      <td>1.142609</td>\n",
       "      <td>0.674612</td>\n",
       "      <td>0.202974</td>\n",
       "    </tr>\n",
       "    <tr>\n",
       "      <th>413</th>\n",
       "      <td>1.328849</td>\n",
       "      <td>1.332187</td>\n",
       "      <td>1.772215</td>\n",
       "      <td>-0.304177</td>\n",
       "      <td>-0.875190</td>\n",
       "      <td>0.674612</td>\n",
       "      <td>-1.397762</td>\n",
       "    </tr>\n",
       "    <tr>\n",
       "      <th>414</th>\n",
       "      <td>1.024091</td>\n",
       "      <td>-0.669162</td>\n",
       "      <td>-0.115093</td>\n",
       "      <td>0.429028</td>\n",
       "      <td>-0.875190</td>\n",
       "      <td>0.674612</td>\n",
       "      <td>-1.397762</td>\n",
       "    </tr>\n",
       "  </tbody>\n",
       "</table>\n",
       "<p>415 rows × 7 columns</p>\n",
       "</div>"
      ],
      "text/plain": [
       "          DLC  Missing Age      City    County       Sex  Race / Ethnicity  \\\n",
       "0   -0.939548    -0.062693 -0.301749  1.712137 -0.875190          0.674612   \n",
       "1   -0.942423    -0.729809  1.875913  0.551229 -0.875190          0.674612   \n",
       "2   -1.252929     0.665070  0.880410  0.001325 -0.875190          0.674612   \n",
       "3   -1.252929     0.058601  0.880410  0.001325  1.142609          0.674612   \n",
       "4   -1.252929    -0.365927 -0.239530 -0.731880 -0.875190          0.674612   \n",
       "..        ...          ...       ...       ...       ...               ...   \n",
       "410  0.198956    -1.033044 -0.737282 -0.731880  1.142609          0.674612   \n",
       "411 -0.128801    -0.487221 -0.737282 -0.731880  1.142609          0.674612   \n",
       "412  0.802715     0.847011  0.320440  2.078740  1.142609          0.674612   \n",
       "413  1.328849     1.332187  1.772215 -0.304177 -0.875190          0.674612   \n",
       "414  1.024091    -0.669162 -0.115093  0.429028 -0.875190          0.674612   \n",
       "\n",
       "     Date Modified  \n",
       "0        -0.867752  \n",
       "1        -1.079220  \n",
       "2        -0.849014  \n",
       "3        -0.849014  \n",
       "4        -1.124726  \n",
       "..             ...  \n",
       "410       1.043494  \n",
       "411      -0.008495  \n",
       "412       0.202974  \n",
       "413      -1.397762  \n",
       "414      -1.397762  \n",
       "\n",
       "[415 rows x 7 columns]"
      ]
     },
     "execution_count": 11,
     "metadata": {},
     "output_type": "execute_result"
    }
   ],
   "source": [
    "from sklearn.preprocessing import StandardScaler\n",
    "\n",
    "missing_copy = missing.copy()\n",
    "\n",
    "# Create an instance of the scaler\n",
    "scaler = StandardScaler()\n",
    "\n",
    "# Select the columns to scale\n",
    "columns_to_scale = ['DLC', 'Missing Age','City','County','Sex', 'Race / Ethnicity','Date Modified']\n",
    "\n",
    "# Scale the selected columns in the copy of the DataFrame\n",
    "missing_copy[columns_to_scale] = scaler.fit_transform(missing_copy[columns_to_scale])\n",
    "\n",
    "missing_copy"
   ]
  },
  {
   "cell_type": "markdown",
   "id": "0d641444-02dc-4a52-a0b3-2d36a987b56a",
   "metadata": {
    "jp-MarkdownHeadingCollapsed": true,
    "tags": []
   },
   "source": [
    "## Question 1 ## \n",
    "Does city and demographic information serve as a proxy for race in this dataset?"
   ]
  },
  {
   "cell_type": "markdown",
   "id": "35d517f3-137c-4758-96fb-f0b8d5c95e7f",
   "metadata": {},
   "source": [
    "# Linear Regression"
   ]
  },
  {
   "cell_type": "code",
   "execution_count": 12,
   "id": "657dc2ab-5981-4fc5-8413-04fa501da8cb",
   "metadata": {},
   "outputs": [
    {
     "name": "stdout",
     "output_type": "stream",
     "text": [
      "R-squared: 0.05792862454658976\n"
     ]
    }
   ],
   "source": [
    "from sklearn.linear_model import LinearRegression\n",
    "\n",
    "# Select the feature columns\n",
    "feature_cols = ['Missing Age','City','County','Sex']\n",
    "\n",
    "# Select the features and target from the dataframe\n",
    "X = missing_copy[feature_cols]\n",
    "y = missing_copy['Race / Ethnicity']\n",
    "\n",
    "# Create an instance of the LinearRegression model\n",
    "model = LinearRegression()\n",
    "\n",
    "# Fit the model to the data\n",
    "model.fit(X, y)\n",
    "\n",
    "# Calculate the coefficient of determination (R-squared)\n",
    "r_squared = model.score(X, y)\n",
    "print(\"R-squared:\", r_squared)"
   ]
  },
  {
   "cell_type": "markdown",
   "id": "a82c0085-ef14-4a14-88b1-eca751ff24aa",
   "metadata": {},
   "source": [
    "### Analysis\n",
    "\n",
    "An R-squared value of approximately .0579 is low. It tells me that around 5.79% of the variance in the target variable Race/Ethicity can be explained by the featured variables (Missing Age, City, County, and Sex). In other words, the model has a relatively low ability to predict/explain the variation in the race/ethnicity of the missing persons in this dataset. The variation is likely influenced by other variables not included in my data. These results suggest that city and demographic information do not serve as a strong proxy for race in this dataset, as linear regression is not a good algorithm for this data."
   ]
  },
  {
   "cell_type": "code",
   "execution_count": 13,
   "id": "f789b8aa-5e3b-4886-935d-26d183753f47",
   "metadata": {},
   "outputs": [
    {
     "data": {
      "image/png": "[encoded data removed]",
      "text/plain": [
       "<Figure size 432x288 with 1 Axes>"
      ]
     },
     "metadata": {
      "needs_background": "light"
     },
     "output_type": "display_data"
    }
   ],
   "source": [
    "import matplotlib.pyplot as plt\n",
    "\n",
    "# Predict the target variable\n",
    "y_pred = model.predict(X)\n",
    "\n",
    "# Create a scatter plot\n",
    "plt.scatter(y, y_pred)\n",
    "plt.xlabel('Actual Race / Ethnicity')\n",
    "plt.ylabel('Predicted Race / Ethnicity')\n",
    "plt.title('Scatter Plot: Actual vs Predicted Race / Ethnicity')\n",
    "plt.show()"
   ]
  },
  {
   "cell_type": "markdown",
   "id": "b87d67cc-071c-4e9f-b0f8-e0a6fd6ecc23",
   "metadata": {},
   "source": [
    "### Analysis\n",
    "In this scatterplot, there are only a few cases where the values of the Actual Race/Ethicity match the values of the predicted Race/Ethnicity. This representation aligns with the analysis of my R-Squared score in the above section. The scatterplot provides a visual representation that shows the loose relationship between the x-variables (city and demographics) and the y (predicted) variable race/ethnicity."
   ]
  },
  {
   "cell_type": "markdown",
   "id": "eb91150c-85c9-4d9d-8f6a-7a64d5a1a93f",
   "metadata": {},
   "source": [
    " ### Decision Tree ###"
   ]
  },
  {
   "cell_type": "code",
   "execution_count": 14,
   "id": "6f098550-8daf-4899-b3ff-362e0a46aa36",
   "metadata": {},
   "outputs": [
    {
     "name": "stdout",
     "output_type": "stream",
     "text": [
      "Confusion matrix:\n",
      "[[ 0  1  0  0  0  1  0]\n",
      " [ 0 11  0  1  0  7  3]\n",
      " [ 0  0  0  0  0  0  0]\n",
      " [ 1  3  0  2  0  2  0]\n",
      " [ 0  1  0  0  0  0  0]\n",
      " [ 1 10  1  3  0 28  1]\n",
      " [ 0  1  0  1  0  4  0]]\n",
      "Accuracy score: 0.49\n"
     ]
    }
   ],
   "source": [
    "from sklearn.tree import DecisionTreeClassifier\n",
    "from sklearn.metrics import confusion_matrix, accuracy_score\n",
    "from sklearn.model_selection import train_test_split\n",
    "import numpy as np\n",
    "\n",
    "# Feature vector X\n",
    "features = ['Missing Age', 'City', 'County', 'Sex']\n",
    "# Label y\n",
    "target = 'Race / Ethnicity'\n",
    "\n",
    "# Select the features and target from the dataframe\n",
    "X = missing_copy[features]\n",
    "y = missing[target]\n",
    "\n",
    "# Split the data into training and test sets\n",
    "X_train, X_test, y_train, y_test = train_test_split(X, y, test_size=0.2, random_state=42)\n",
    "\n",
    "# Create decision tree classifier\n",
    "classify = DecisionTreeClassifier()\n",
    "\n",
    "# Fit the model to the training data\n",
    "classify.fit(X_train, y_train)\n",
    "\n",
    "# Make predictions on the test data\n",
    "y_pred = classify.predict(X_test)\n",
    "\n",
    "# Calculate confusion matrix\n",
    "cm = confusion_matrix(y_test, y_pred)\n",
    "print(\"Confusion matrix:\")\n",
    "print(cm)\n",
    "\n",
    "# Calculate accuracy score\n",
    "accuracy = accuracy_score(y_test, y_pred)\n",
    "print(\"Accuracy score: {:.2f}\".format(accuracy))"
   ]
  },
  {
   "cell_type": "markdown",
   "id": "57f01ca3-5288-47a1-91d9-3444bd9362ef",
   "metadata": {},
   "source": [
    "### Analysis\n",
    "Based on these results, it seems that the decision tree model has some limitations in accurately predicting race/ethnicity based on the given features. The misclassifications and the low accuracy score suggest that these features alone may not serve as a reliable proxy for determining race/ethnicity in the dataset. Although the decision tree algorithm better connected the city and demographic information to race/ethnicity than the linear regression model. Additional variables or more complex models may still be required to improve the predictive performance."
   ]
  },
  {
   "cell_type": "markdown",
   "id": "e4f3c274-d602-426b-9e3c-d546210097c1",
   "metadata": {},
   "source": [
    "# KNN"
   ]
  },
  {
   "cell_type": "code",
   "execution_count": 15,
   "id": "dccc3e4c-0b2d-4eb2-8649-b898572d6a2a",
   "metadata": {},
   "outputs": [
    {
     "name": "stdout",
     "output_type": "stream",
     "text": [
      "Accuracy when k = 5 : 0.5783132530120482\n",
      "Accuracy when k = 11 : 0.5783132530120482\n"
     ]
    },
    {
     "data": {
      "image/png": "[encoded data removed]",
      "text/plain": [
       "<Figure size 432x288 with 1 Axes>"
      ]
     },
     "metadata": {
      "needs_background": "light"
     },
     "output_type": "display_data"
    }
   ],
   "source": [
    "import numpy as np \n",
    "import seaborn as sns\n",
    "import matplotlib.pyplot as plt\n",
    "from sklearn.neighbors import KNeighborsClassifier\n",
    "from sklearn.model_selection import train_test_split\n",
    "from sklearn.metrics import accuracy_score\n",
    "\n",
    "feature_cols = ['Missing Age', 'City', 'County', 'Sex']\n",
    "\n",
    "# Select the features and target\n",
    "X = missing_copy[feature_cols]\n",
    "y = missing['Race / Ethnicity']\n",
    "\n",
    "# Split the data into training and test sets\n",
    "X_train, X_test, y_train, y_test = train_test_split(X, y, test_size=0.2, random_state=42)\n",
    "\n",
    "k_values = range(1, 21)  # Range of k values to try\n",
    "accuracy_scores = []\n",
    "\n",
    "# Perform multiple trials with different values of k\n",
    "for k in k_values:\n",
    "    # Create and fit the K-nearest neighbors classifier\n",
    "    knn = KNeighborsClassifier(n_neighbors=k)\n",
    "    knn.fit(X_train, y_train)\n",
    "\n",
    "    # Predict the labels for the test set\n",
    "    y_pred = knn.predict(X_test)\n",
    "\n",
    "    # Calculate the accuracy score\n",
    "    accuracy = accuracy_score(y_test, y_pred)\n",
    "    accuracy_scores.append(accuracy)\n",
    "\n",
    "    # Print the accuracy score when k is 5 or 11\n",
    "    if k == 5 or k == 11:\n",
    "        print(\"Accuracy when k =\", k, \":\", accuracy)\n",
    "\n",
    "# Create a scatterplot of k values vs. accuracy scores\n",
    "sns.scatterplot(x=k_values, y=accuracy_scores)\n",
    "plt.xlabel('k')\n",
    "plt.ylabel('Accuracy')\n",
    "plt.title('Accuracy vs. k in KNN')\n",
    "plt.show()"
   ]
  },
  {
   "cell_type": "markdown",
   "id": "5d73e81b-a970-4179-90ad-205a822f7bd1",
   "metadata": {},
   "source": [
    "## Analysis \n",
    "Each model I used to answer the question of whether or not city and demographic information serve as a proxy for race in this dataset performed better than the last. We see that the accuracy score is the same when k is 5 or 11. Therefore, 5 and 11 are our best k values to use for this model, resulting in around a 57.83% for the accuracy score. Around 57.83% accuracy is a higher percentage than the last two models. City and demographic information show some evidence of being a proxy for race in this dataset. However, the featured variables are not the only factors responsible for predicting race/ethnicity. "
   ]
  },
  {
   "cell_type": "markdown",
   "id": "6a605261-504d-49a7-a395-42e28c8d5959",
   "metadata": {},
   "source": [
    "## Question 2 ##\n",
    "Can you identify any patterns or clusters within the data (excluding DLC and Date Modified) that could help distinguish characteristics of cold cases?"
   ]
  },
  {
   "cell_type": "markdown",
   "id": "aaf4a1cc-c4d5-42d3-869a-f5f0b9c4f18e",
   "metadata": {},
   "source": [
    "### K-Means Clustering ###"
   ]
  },
  {
   "cell_type": "code",
   "execution_count": 27,
   "id": "5bf92cd9-5565-45d3-855c-51f6022164f5",
   "metadata": {},
   "outputs": [
    {
     "name": "stdout",
     "output_type": "stream",
     "text": [
      "          DLC  Missing Age      City    County       Sex  Race / Ethnicity  \\\n",
      "0   -0.939548    -0.062693 -0.301749  1.712137 -0.875190          0.674612   \n",
      "1   -0.942423    -0.729809  1.875913  0.551229 -0.875190          0.674612   \n",
      "2   -1.252929     0.665070  0.880410  0.001325 -0.875190          0.674612   \n",
      "3   -1.252929     0.058601  0.880410  0.001325  1.142609          0.674612   \n",
      "4   -1.252929    -0.365927 -0.239530 -0.731880 -0.875190          0.674612   \n",
      "..        ...          ...       ...       ...       ...               ...   \n",
      "410  0.198956    -1.033044 -0.737282 -0.731880  1.142609          0.674612   \n",
      "411 -0.128801    -0.487221 -0.737282 -0.731880  1.142609          0.674612   \n",
      "412  0.802715     0.847011  0.320440  2.078740  1.142609          0.674612   \n",
      "413  1.328849     1.332187  1.772215 -0.304177 -0.875190          0.674612   \n",
      "414  1.024091    -0.669162 -0.115093  0.429028 -0.875190          0.674612   \n",
      "\n",
      "     Date Modified  Time Difference  Case Status  Cluster  \n",
      "0        -0.867752         0.115068            0        1  \n",
      "1        -1.079220         0.142466            0        1  \n",
      "2        -0.849014         0.095890            0        1  \n",
      "3        -0.849014         0.095890            0        1  \n",
      "4        -1.124726         0.189041            0        0  \n",
      "..             ...              ...          ...      ...  \n",
      "410       1.043494         0.490411            0        0  \n",
      "411      -0.008495         1.808219            0        0  \n",
      "412       0.202974         1.780822            0        1  \n",
      "413      -1.397762         1.271233            0        1  \n",
      "414      -1.397762         1.271233            0        1  \n",
      "\n",
      "[415 rows x 10 columns]\n"
     ]
    }
   ],
   "source": [
    "from datetime import datetime, timedelta\n",
    "\n",
    "missing['DLC'] = pd.to_datetime(missing['DLC'], format='%m%d%Y')\n",
    "missing['Date Modified'] = pd.to_datetime(missing['Date Modified'], format='%m%d%Y')\n",
    "\n",
    "# Get today's date\n",
    "today = pd.Timestamp(datetime.today().date())\n",
    "\n",
    "# Calculate the time difference between \"Date Modified\" and today's date in years\n",
    "missing_copy['Time Difference'] = (today - missing['Date Modified']).dt.days / 365\n",
    "\n",
    "# Define the threshold for considering a case as cold (e.g., 2 years)\n",
    "cold_threshold = 2\n",
    "\n",
    "# Create the \"Case Status\" column based on the time difference\n",
    "missing_copy['Case Status'] = [ 1 if diff >= cold_threshold else 0 for diff in missing_copy['Time Difference']]\n",
    "\n",
    "# Print the updated DataFrame\n",
    "print(missing_copy)\n"
   ]
  },
  {
   "cell_type": "code",
   "execution_count": 28,
   "id": "5dddbb2a-e213-4d4a-9568-fa65217925b6",
   "metadata": {},
   "outputs": [
    {
     "name": "stdout",
     "output_type": "stream",
     "text": [
      "Trial 1 - Cluster Analysis:\n",
      "[1 1 1 1 0 1 1 0 0 1 1 0 1 0 1 0 1 0 0 0 1 0 0 0 1 0 1 0 0 1 1 0 0 1 0 0 0\n",
      " 1 1 1 1 1 1 1 1 1 0 0 1 0 0 0 1 0 1 0 1 1 0 1 0 0 0 0 1 0 0 0 0 0 1 0 0 0\n",
      " 0 0 1 0 1 0 0 1 0 0 0 0 1 1 1 1 1 1 1 1 0 0 1 1 0 1 0 0 0 0 0 1 0 1 1 0 0\n",
      " 1 1 1 1 0 0 1 1 1 0 1 1 0 1 0 0 1 0 1 0 0 1 0 0 0 0 0 0 0 0 1 0 0 1 0 1 1\n",
      " 0 1 0 0 0 0 0 1 0 1 0 0 1 0 1 0 1 1 0 1 1 0 0 0 0 0 0 1 1 0 0 1 1 1 0 0 0\n",
      " 0 1 0 1 1 1 0 0 0 0 1 1 0 0 1 1 0 0 0 1 0 1 0 0 1 1 0 0 1 0 1 0 1 1 0 0 0\n",
      " 0 0 0 1 1 0 1 1 1 0 1 1 0 0 1 1 1 1 0 0 0 1 0 1 1 1 0 0 0 0 0 1 1 0 0 0 0\n",
      " 1 0 0 1 0 0 0 1 0 0 0 0 0 0 0 1 1 0 1 1 0 0 1 0 0 1 0 1 1 1 0 0 0 0 0 0 0\n",
      " 0 1 1 1 0 0 0 1 1 0 0 0 0 1 1 0 0 1 0 1 1 0 0 0 0 0 0 0 0 1 1 1 1 1 1 0 1\n",
      " 1 0 0 0 1 1 1 1 0 0 1 0 0 1 0 1 1 1 1 1 0 0 0 1 0 1 1 0 0 1 0 0 0 1 0 0 1\n",
      " 1 0 0 0 0 0 1 0 1 1 1 0 1 1 0 1 0 1 1 1 1 1 1 0 0 0 1 0 1 0 1 1 1 0 0 0 0\n",
      " 1 1 0 0 0 1 1 1]\n",
      "Variability: 1637.379589309211\n",
      "Dissimilarity: 802.5094724718223\n",
      "Distinct Clusters for Cold Cases: 2\n",
      "\n",
      "Trial 2 - Cluster Analysis:\n",
      "[0 0 0 0 1 0 0 1 1 0 0 1 0 1 0 1 0 1 1 1 0 1 1 1 0 1 0 1 1 0 0 1 1 0 1 1 1\n",
      " 0 0 0 0 0 0 0 0 0 1 1 0 1 1 1 0 1 0 1 0 0 1 0 1 1 1 1 0 1 1 1 1 1 0 1 1 1\n",
      " 1 1 0 1 0 1 1 0 1 1 1 1 0 0 0 0 0 0 0 0 1 1 0 0 1 0 1 1 1 1 1 0 1 0 0 1 1\n",
      " 0 0 0 0 1 1 0 0 0 1 0 0 1 0 1 1 0 1 0 1 1 0 1 1 1 1 1 1 1 1 0 1 1 0 1 0 0\n",
      " 1 0 1 1 1 1 1 0 1 0 1 1 0 1 0 1 0 0 1 0 0 1 1 1 1 1 1 0 0 1 1 0 0 0 1 1 1\n",
      " 1 0 1 0 0 0 1 1 1 1 0 0 1 1 0 0 1 1 1 0 1 0 1 1 0 0 1 1 0 1 0 1 0 0 1 1 1\n",
      " 1 1 1 0 0 1 0 0 0 1 0 0 1 1 0 0 0 0 1 1 1 0 1 0 0 0 1 1 1 1 1 0 0 1 1 1 1\n",
      " 0 1 1 0 1 1 1 0 1 1 1 1 1 1 1 0 0 1 0 0 1 1 0 1 1 0 1 0 0 0 1 1 1 1 1 1 1\n",
      " 1 0 0 0 1 1 1 0 0 1 1 1 1 0 0 1 1 0 1 0 0 1 1 1 1 1 1 1 1 0 0 0 0 0 0 1 0\n",
      " 0 1 1 1 0 0 0 0 1 1 0 1 1 0 1 0 0 0 0 0 1 1 1 0 1 0 0 1 1 0 1 1 1 0 1 1 0\n",
      " 0 1 1 1 1 1 0 1 0 0 0 1 0 0 1 0 1 0 0 0 0 0 0 1 1 1 0 1 0 1 0 0 0 1 1 1 1\n",
      " 0 0 1 1 1 0 0 0]\n",
      "Variability: 1637.379589309211\n",
      "Dissimilarity: 802.5094724718223\n",
      "Distinct Clusters for Cold Cases: 2\n",
      "\n",
      "Trial 3 - Cluster Analysis:\n",
      "[1 1 1 1 0 1 1 0 0 1 1 0 1 0 1 0 1 0 0 0 1 0 0 0 1 0 1 0 0 1 1 0 0 1 0 0 0\n",
      " 1 1 1 1 1 1 1 1 1 0 0 1 0 0 0 1 0 1 0 1 1 0 1 0 0 0 0 1 0 0 0 0 0 1 0 0 0\n",
      " 0 0 1 0 1 0 0 1 0 0 0 0 1 1 1 1 1 1 1 1 0 0 1 1 0 1 0 0 0 0 0 1 0 1 1 0 0\n",
      " 1 1 1 1 0 0 1 1 1 0 1 1 0 1 0 0 1 0 1 0 0 1 0 0 0 0 0 0 0 0 1 0 0 1 0 1 1\n",
      " 0 1 0 0 0 0 0 1 0 1 0 0 1 0 1 0 1 1 0 1 1 0 0 0 0 0 0 1 1 0 0 1 1 1 0 0 0\n",
      " 0 1 0 1 1 1 0 0 0 0 1 1 0 0 1 1 0 0 0 1 0 1 0 0 1 1 0 0 1 0 1 0 1 1 0 0 0\n",
      " 0 0 0 1 1 0 1 1 1 0 1 1 0 0 1 1 1 1 0 0 0 1 0 1 1 1 0 0 0 0 0 1 1 0 0 0 0\n",
      " 1 0 0 1 0 0 0 1 0 0 0 0 0 0 0 1 1 0 1 1 0 0 1 0 0 1 0 1 1 1 0 0 0 0 0 0 0\n",
      " 0 1 1 1 0 0 0 1 1 0 0 0 0 1 1 0 0 1 0 1 1 0 0 0 0 0 0 0 0 1 1 1 1 1 1 0 1\n",
      " 1 0 0 0 1 1 1 1 0 0 1 0 0 1 0 1 1 1 1 1 0 0 0 1 0 1 1 0 0 1 0 0 0 1 0 0 1\n",
      " 1 0 0 0 0 0 1 0 1 1 1 0 1 1 0 1 0 1 1 1 1 1 1 0 0 0 1 0 1 0 1 1 1 0 0 0 0\n",
      " 1 1 0 0 0 1 1 1]\n",
      "Variability: 1637.379589309211\n",
      "Dissimilarity: 802.5094724718223\n",
      "Distinct Clusters for Cold Cases: 2\n",
      "\n",
      "Trial 4 - Cluster Analysis:\n",
      "[1 1 1 1 0 1 1 0 0 1 1 0 1 0 1 0 1 0 0 0 1 0 0 0 1 0 1 0 0 1 1 0 0 1 0 0 0\n",
      " 1 1 1 1 1 1 1 1 1 0 0 1 0 0 0 1 0 1 0 1 1 0 1 0 0 0 0 1 0 0 0 0 0 1 0 0 0\n",
      " 0 0 1 0 1 0 0 1 0 0 0 0 1 1 1 1 1 1 1 1 0 0 1 1 0 1 0 0 0 0 0 1 0 1 1 0 0\n",
      " 1 1 1 1 0 0 1 1 1 0 1 1 0 1 0 0 1 0 1 0 0 1 0 0 0 0 0 0 0 0 1 0 0 1 0 1 1\n",
      " 0 1 0 0 0 0 0 1 0 1 0 0 1 0 1 0 1 1 0 1 1 0 0 0 0 0 0 1 1 0 0 1 1 1 0 0 0\n",
      " 0 1 0 1 1 1 0 0 0 0 1 1 0 0 1 1 0 0 0 1 0 1 0 0 1 1 0 0 1 0 1 0 1 1 0 0 0\n",
      " 0 0 0 1 1 0 1 1 1 0 1 1 0 0 1 1 1 1 0 0 0 1 0 1 1 1 0 0 0 0 0 1 1 0 0 0 0\n",
      " 1 0 0 1 0 0 0 1 0 0 0 0 0 0 0 1 1 0 1 1 0 0 1 0 0 1 0 1 1 1 0 0 0 0 0 0 0\n",
      " 0 1 1 1 0 0 0 1 1 0 0 0 0 1 1 0 0 1 0 1 1 0 0 0 0 0 0 0 0 1 1 1 1 1 1 0 1\n",
      " 1 0 0 0 1 1 1 1 0 0 1 0 0 1 0 1 1 1 1 1 0 0 0 1 0 1 1 0 0 1 0 0 0 1 0 0 1\n",
      " 1 0 0 0 0 0 1 0 1 1 1 0 1 1 0 1 0 1 1 1 1 1 1 0 0 0 1 0 1 0 1 1 1 0 0 0 0\n",
      " 1 1 0 0 0 1 1 1]\n",
      "Variability: 1637.379589309211\n",
      "Dissimilarity: 802.5094724718223\n",
      "Distinct Clusters for Cold Cases: 2\n",
      "\n",
      "Trial 5 - Cluster Analysis:\n",
      "[1 1 1 1 0 1 1 0 0 1 1 0 1 0 1 0 1 0 0 0 1 0 0 0 1 0 1 0 0 1 1 0 0 1 0 0 0\n",
      " 1 1 1 1 1 1 1 1 1 0 0 1 0 0 0 1 0 1 0 1 1 0 1 0 0 0 0 1 0 0 0 0 0 1 0 0 0\n",
      " 0 0 1 0 1 0 0 1 0 0 0 0 1 1 1 1 1 1 1 1 0 0 1 1 0 1 0 0 0 0 0 1 0 1 1 0 0\n",
      " 1 1 1 1 0 0 1 1 1 0 1 1 0 1 0 0 1 0 1 0 0 1 0 0 0 0 0 0 0 0 1 0 0 1 0 1 1\n",
      " 0 1 0 0 0 0 0 1 0 1 0 0 1 0 1 0 1 1 0 1 1 0 0 0 0 0 0 1 1 0 0 1 1 1 0 0 0\n",
      " 0 1 0 1 1 1 0 0 0 0 1 1 0 0 1 1 0 0 0 1 0 1 0 0 1 1 0 0 1 0 1 0 1 1 0 0 0\n",
      " 0 0 0 1 1 0 1 1 1 0 1 1 0 0 1 1 1 1 0 0 0 1 0 1 1 1 0 0 0 0 0 1 1 0 0 0 0\n",
      " 1 0 0 1 0 0 0 1 0 0 0 0 0 0 0 1 1 0 1 1 0 0 1 0 0 1 0 1 1 1 0 0 0 0 0 0 0\n",
      " 0 1 1 1 0 0 0 1 1 0 0 0 0 1 1 0 0 1 0 1 1 0 0 0 0 0 0 0 0 1 1 1 1 1 1 0 1\n",
      " 1 0 0 0 1 1 1 1 0 0 1 0 0 1 0 1 1 1 1 1 0 0 0 1 0 1 1 0 0 1 0 0 0 1 0 0 1\n",
      " 1 0 0 0 0 0 1 0 1 1 1 0 1 1 0 1 0 1 1 1 1 1 1 0 0 0 1 0 1 0 1 1 1 0 0 0 0\n",
      " 1 1 0 0 0 1 1 1]\n",
      "Variability: 1637.379589309211\n",
      "Dissimilarity: 802.5094724718223\n",
      "Distinct Clusters for Cold Cases: 2\n",
      "\n",
      "Trial 6 - Cluster Analysis:\n",
      "[1 1 1 1 0 1 1 0 0 1 1 0 1 0 1 0 1 0 0 0 1 0 0 0 1 0 1 0 0 1 1 0 0 1 0 0 0\n",
      " 1 1 1 1 1 1 1 1 1 0 0 1 0 0 0 1 0 1 0 1 1 0 1 0 0 0 0 1 0 0 0 0 0 1 0 0 0\n",
      " 0 0 1 0 1 0 0 1 0 0 0 0 1 1 1 1 1 1 1 1 0 0 1 1 0 1 0 0 0 0 0 1 0 1 1 0 0\n",
      " 1 1 1 1 0 0 1 1 1 0 1 1 0 1 0 0 1 0 1 0 0 1 0 0 0 0 0 0 0 0 1 0 0 1 0 1 1\n",
      " 0 1 0 0 0 0 0 1 0 1 0 0 1 0 1 0 1 1 0 1 1 0 0 0 0 0 0 1 1 0 0 1 1 1 0 0 0\n",
      " 0 1 0 1 1 1 0 0 0 0 1 1 0 0 1 1 0 0 0 1 0 1 0 0 1 1 0 0 1 0 1 0 1 1 0 0 0\n",
      " 0 0 0 1 1 0 1 1 1 0 1 1 0 0 1 1 1 1 0 0 0 1 0 1 1 1 0 0 0 0 0 1 1 0 0 0 0\n",
      " 1 0 0 1 0 0 0 1 0 0 0 0 0 0 0 1 1 0 1 1 0 0 1 0 0 1 0 1 1 1 0 0 0 0 0 0 0\n",
      " 0 1 1 1 0 0 0 1 1 0 0 0 0 1 1 0 0 1 0 1 1 0 0 0 0 0 0 0 0 1 1 1 1 1 1 0 1\n",
      " 1 0 0 0 1 1 1 1 0 0 1 0 0 1 0 1 1 1 1 1 0 0 0 1 0 1 1 0 0 1 0 0 0 1 0 0 1\n",
      " 1 0 0 0 0 0 1 0 1 1 1 0 1 1 0 1 0 1 1 1 1 1 1 0 0 0 1 0 1 0 1 1 1 0 0 0 0\n",
      " 1 1 0 0 0 1 1 1]\n",
      "Variability: 1637.379589309211\n",
      "Dissimilarity: 802.5094724718223\n",
      "Distinct Clusters for Cold Cases: 2\n",
      "\n",
      "Trial 7 - Cluster Analysis:\n",
      "[1 1 1 1 0 1 1 0 0 1 1 0 1 0 1 0 1 0 0 0 1 0 0 0 1 0 1 0 0 1 1 0 0 1 0 0 0\n",
      " 1 1 1 1 1 1 1 1 1 0 0 1 0 0 0 1 0 1 0 1 1 0 1 0 0 0 0 1 0 0 0 0 0 1 0 0 0\n",
      " 0 0 1 0 1 0 0 1 0 0 0 0 1 1 1 1 1 1 1 1 0 0 1 1 0 1 0 0 0 0 0 1 0 1 1 0 0\n",
      " 1 1 1 1 0 0 1 1 1 0 1 1 0 1 0 0 1 0 1 0 0 1 0 0 0 0 0 0 0 0 1 0 0 1 0 1 1\n",
      " 0 1 0 0 0 0 0 1 0 1 0 0 1 0 1 0 1 1 0 1 1 0 0 0 0 0 0 1 1 0 0 1 1 1 0 0 0\n",
      " 0 1 0 1 1 1 0 0 0 0 1 1 0 0 1 1 0 0 0 1 0 1 0 0 1 1 0 0 1 0 1 0 1 1 0 0 0\n",
      " 0 0 0 1 1 0 1 1 1 0 1 1 0 0 1 1 1 1 0 0 0 1 0 1 1 1 0 0 0 0 0 1 1 0 0 0 0\n",
      " 1 0 0 1 0 0 0 1 0 0 0 0 0 0 0 1 1 0 1 1 0 0 1 0 0 1 0 1 1 1 0 0 0 0 0 0 0\n",
      " 0 1 1 1 0 0 0 1 1 0 0 0 0 1 1 0 0 1 0 1 1 0 0 0 0 0 0 0 0 1 1 1 1 1 1 0 1\n",
      " 1 0 0 0 1 1 1 1 0 0 1 0 0 1 0 1 1 1 1 1 0 0 0 1 0 1 1 0 0 1 0 0 0 1 0 0 1\n",
      " 1 0 0 0 0 0 1 0 1 1 1 0 1 1 0 1 0 1 1 1 1 1 1 0 0 0 1 0 1 0 1 1 1 0 0 0 0\n",
      " 1 1 0 0 0 1 1 1]\n",
      "Variability: 1637.379589309211\n",
      "Dissimilarity: 802.5094724718223\n",
      "Distinct Clusters for Cold Cases: 2\n",
      "\n",
      "Trial 8 - Cluster Analysis:\n",
      "[0 0 0 0 1 0 0 1 1 0 0 1 0 1 0 1 0 1 1 1 0 1 1 1 0 1 0 1 1 0 0 1 1 0 1 1 1\n",
      " 0 0 0 0 0 0 0 0 0 1 1 0 1 1 1 0 1 0 1 0 0 1 0 1 1 1 1 0 1 1 1 1 1 0 1 1 1\n",
      " 1 1 0 1 0 1 1 0 1 1 1 1 0 0 0 0 0 0 0 0 1 1 0 0 1 0 1 1 1 1 1 0 1 0 0 1 1\n",
      " 0 0 0 0 1 1 0 0 0 1 0 0 1 0 1 1 0 1 0 1 1 0 1 1 1 1 1 1 1 1 0 1 1 0 1 0 0\n",
      " 1 0 1 1 1 1 1 0 1 0 1 1 0 1 0 1 0 0 1 0 0 1 1 1 1 1 1 0 0 1 1 0 0 0 1 1 1\n",
      " 1 0 1 0 0 0 1 1 1 1 0 0 1 1 0 0 1 1 1 0 1 0 1 1 0 0 1 1 0 1 0 1 0 0 1 1 1\n",
      " 1 1 1 0 0 1 0 0 0 1 0 0 1 1 0 0 0 0 1 1 1 0 1 0 0 0 1 1 1 1 1 0 0 1 1 1 1\n",
      " 0 1 1 0 1 1 1 0 1 1 1 1 1 1 1 0 0 1 0 0 1 1 0 1 1 0 1 0 0 0 1 1 1 1 1 1 1\n",
      " 1 0 0 0 1 1 1 0 0 1 1 1 1 0 0 1 1 0 1 0 0 1 1 1 1 1 1 1 1 0 0 0 0 0 0 1 0\n",
      " 0 1 1 1 0 0 0 0 1 1 0 1 1 0 1 0 0 0 0 0 1 1 1 0 1 0 0 1 1 0 1 1 1 0 1 1 0\n",
      " 0 1 1 1 1 1 0 1 0 0 0 1 0 0 1 0 1 0 0 0 0 0 0 1 1 1 0 1 0 1 0 0 0 1 1 1 1\n",
      " 0 0 1 1 1 0 0 0]\n",
      "Variability: 1637.379589309211\n",
      "Dissimilarity: 802.5094724718223\n",
      "Distinct Clusters for Cold Cases: 2\n",
      "\n",
      "Trial 9 - Cluster Analysis:\n",
      "[0 0 0 0 1 0 0 1 1 0 0 1 0 1 0 1 0 1 1 1 0 1 1 1 0 1 0 1 1 0 0 1 1 0 1 1 1\n",
      " 0 0 0 0 0 0 0 0 0 1 1 0 1 1 1 0 1 0 1 0 0 1 0 1 1 1 1 0 1 1 1 1 1 0 1 1 1\n",
      " 1 1 0 1 0 1 1 0 1 1 1 1 0 0 0 0 0 0 0 0 1 1 0 0 1 0 1 1 1 1 1 0 1 0 0 1 1\n",
      " 0 0 0 0 1 1 0 0 0 1 0 0 1 0 1 1 0 1 0 1 1 0 1 1 1 1 1 1 1 1 0 1 1 0 1 0 0\n",
      " 1 0 1 1 1 1 1 0 1 0 1 1 0 1 0 1 0 0 1 0 0 1 1 1 1 1 1 0 0 1 1 0 0 0 1 1 1\n",
      " 1 0 1 0 0 0 1 1 1 1 0 0 1 1 0 0 1 1 1 0 1 0 1 1 0 0 1 1 0 1 0 1 0 0 1 1 1\n",
      " 1 1 1 0 0 1 0 0 0 1 0 0 1 1 0 0 0 0 1 1 1 0 1 0 0 0 1 1 1 1 1 0 0 1 1 1 1\n",
      " 0 1 1 0 1 1 1 0 1 1 1 1 1 1 1 0 0 1 0 0 1 1 0 1 1 0 1 0 0 0 1 1 1 1 1 1 1\n",
      " 1 0 0 0 1 1 1 0 0 1 1 1 1 0 0 1 1 0 1 0 0 1 1 1 1 1 1 1 1 0 0 0 0 0 0 1 0\n",
      " 0 1 1 1 0 0 0 0 1 1 0 1 1 0 1 0 0 0 0 0 1 1 1 0 1 0 0 1 1 0 1 1 1 0 1 1 0\n",
      " 0 1 1 1 1 1 0 1 0 0 0 1 0 0 1 0 1 0 0 0 0 0 0 1 1 1 0 1 0 1 0 0 0 1 1 1 1\n",
      " 0 0 1 1 1 0 0 0]\n",
      "Variability: 1637.379589309211\n",
      "Dissimilarity: 802.5094724718223\n",
      "Distinct Clusters for Cold Cases: 2\n",
      "\n",
      "Trial 10 - Cluster Analysis:\n",
      "[0 0 0 0 1 0 0 1 1 0 0 1 0 1 0 1 0 1 1 1 0 1 1 1 0 1 0 1 1 0 0 1 1 0 1 1 1\n",
      " 0 0 0 0 0 0 0 0 0 1 1 0 1 1 1 0 1 0 1 0 0 1 0 1 1 1 1 0 1 1 1 1 1 0 1 1 1\n",
      " 1 1 0 1 0 1 1 0 1 1 1 1 0 0 0 0 0 0 0 0 1 1 0 0 1 0 1 1 1 1 1 0 1 0 0 1 1\n",
      " 0 0 0 0 1 1 0 0 0 1 0 0 1 0 1 1 0 1 0 1 1 0 1 1 1 1 1 1 1 1 0 1 1 0 1 0 0\n",
      " 1 0 1 1 1 1 1 0 1 0 1 1 0 1 0 1 0 0 1 0 0 1 1 1 1 1 1 0 0 1 1 0 0 0 1 1 1\n",
      " 1 0 1 0 0 0 1 1 1 1 0 0 1 1 0 0 1 1 1 0 1 0 1 1 0 0 1 1 0 1 0 1 0 0 1 1 1\n",
      " 1 1 1 0 0 1 0 0 0 1 0 0 1 1 0 0 0 0 1 1 1 0 1 0 0 0 1 1 1 1 1 0 0 1 1 1 1\n",
      " 0 1 1 0 1 1 1 0 1 1 1 1 1 1 1 0 0 1 0 0 1 1 0 1 1 0 1 0 0 0 1 1 1 1 1 1 1\n",
      " 1 0 0 0 1 1 1 0 0 1 1 1 1 0 0 1 1 0 1 0 0 1 1 1 1 1 1 1 1 0 0 0 0 0 0 1 0\n",
      " 0 1 1 1 0 0 0 0 1 1 0 1 1 0 1 0 0 0 0 0 1 1 1 0 1 0 0 1 1 0 1 1 1 0 1 1 0\n",
      " 0 1 1 1 1 1 0 1 0 0 0 1 0 0 1 0 1 0 0 0 0 0 0 1 1 1 0 1 0 1 0 0 0 1 1 1 1\n",
      " 0 0 1 1 1 0 0 0]\n",
      "Variability: 1637.379589309211\n",
      "Dissimilarity: 802.5094724718223\n",
      "Distinct Clusters for Cold Cases: 2\n",
      "\n",
      "Best Trial: 1\n"
     ]
    }
   ],
   "source": [
    "from sklearn.cluster import KMeans\n",
    "\n",
    "# Select the columns\n",
    "selected_columns = ['Missing Age','City','County','Sex','Race / Ethnicity']  \n",
    "# Create a new DataFrame with only the selected columns\n",
    "selected_data = missing_copy[selected_columns].copy()\n",
    "\n",
    "# Set the number of clusters and trials\n",
    "k = 2\n",
    "n = 10\n",
    "\n",
    "# Initialize variables to store the best dissimilarity and the corresponding trial\n",
    "best_dissimilarity = float('inf')\n",
    "best_trial = None\n",
    "\n",
    "for trial in range(n):\n",
    "    # Perform K-means clustering\n",
    "    kmeans = KMeans(n_clusters=k)\n",
    "    kmeans.fit(selected_data)\n",
    "\n",
    "    # Get the cluster labels for each data point\n",
    "    cluster_labels = kmeans.labels_\n",
    "\n",
    "    variability = kmeans.inertia_\n",
    "\n",
    "    # Calculate the dissimilarity (sum of distances between clusters)\n",
    "    distances = kmeans.transform(selected_data)\n",
    "    dissimilarity = np.sum(distances.min(axis=1))\n",
    "\n",
    "    # Get the cluster labels for cold cases\n",
    "    cold_cases_cluster_labels = cluster_labels[missing_copy['Case Status'] == 1]\n",
    "\n",
    "    # Check if there are any distinct clusters for cold cases\n",
    "    distinct_clusters = len(set(cold_cases_cluster_labels))\n",
    "\n",
    "    # Print the cluster analysis, variability, and dissimilarity for this trial\n",
    "    print(f\"Trial {trial+1} - Cluster Analysis:\")\n",
    "    print(cluster_labels)\n",
    "    print(f\"Variability: {variability}\")\n",
    "    print(f\"Dissimilarity: {dissimilarity}\")\n",
    "    print(f\"Distinct Clusters for Cold Cases: {distinct_clusters}\")\n",
    "    print()\n",
    "\n",
    "    # Check if this trial has the best dissimilarity and distinct clusters for cold cases so far\n",
    "    if dissimilarity < best_dissimilarity and distinct_clusters > 1:\n",
    "        best_dissimilarity = dissimilarity\n",
    "        best_trial = trial+1\n",
    "\n",
    "# Print the best trial\n",
    "print(f\"Best Trial: {best_trial}\")"
   ]
  },
  {
   "cell_type": "code",
   "execution_count": 29,
   "id": "2665b181-95fc-4578-b512-7851aa218641",
   "metadata": {},
   "outputs": [
    {
     "data": {
      "image/png": "[encoded data removed]",
      "text/plain": [
       "<Figure size 432x288 with 1 Axes>"
      ]
     },
     "metadata": {
      "needs_background": "light"
     },
     "output_type": "display_data"
    }
   ],
   "source": [
    "# Select the relevant columns for clustering\n",
    "data = missing_copy[['Missing Age', 'City', 'County', 'Sex', 'Race / Ethnicity', 'Case Status']]\n",
    "# Perform K-means clustering\n",
    "kmeans = KMeans(n_clusters=k)\n",
    "kmeans.fit(data)\n",
    "\n",
    "# Get the cluster labels for each data point\n",
    "cluster_labels = kmeans.labels_\n",
    "\n",
    "# Add the cluster labels to the DataFrame\n",
    "missing_copy['Cluster'] = cluster_labels\n",
    "\n",
    "# Create a scatter plot using Seaborn\n",
    "sns.scatterplot(x='Race / Ethnicity', y='Missing Age', hue='Cluster', style='Case Status', data=missing_copy)\n",
    "\n",
    "# Set the title for the plot\n",
    "plt.title('Clustering of Cold Cases - Race/Ethnicity vs Missing Age')\n",
    "\n",
    "# Show the plot\n",
    "plt.show()"
   ]
  },
  {
   "cell_type": "markdown",
   "id": "feb06fea-dfe9-4672-bfd9-1f9b05bab341",
   "metadata": {},
   "source": [
    "### Analysis \n",
    "I changed from 5 clusters all the way down to 2, because when using 5 clusters, 3 of the clusters had very few data points. Cluster 0 mainly falls into one ethnicity with a few of the points being in other ethnicities. The same is true for cluster 1. However, cluster 0 has more cold cases. This is an interesting finding based on previous knowledge. Some cases are provided more resources than others. "
   ]
  },
  {
   "cell_type": "markdown",
   "id": "3e9b1168-615e-488c-896f-d2f77e0b89ce",
   "metadata": {},
   "source": [
    "## Question 3\n",
    "Can we identify any patterns or clusters within the data that could help distinguish characteristics of the cases based on their 'Missing Age' and 'Sex'?"
   ]
  },
  {
   "cell_type": "code",
   "execution_count": 30,
   "id": "bf699c71-94e6-4720-be15-14a8d254af66",
   "metadata": {},
   "outputs": [
    {
     "data": {
      "image/png": "[encoded data removed]",
      "text/plain": [
       "<Figure size 432x288 with 1 Axes>"
      ]
     },
     "metadata": {
      "needs_background": "light"
     },
     "output_type": "display_data"
    }
   ],
   "source": [
    "# Extract the necessary columns for clustering\n",
    "features = missing_copy[['Missing Age', 'Sex']]\n",
    "\n",
    "# Set the number of clusters\n",
    "k = 4\n",
    "\n",
    "# Perform K-means clustering\n",
    "kmeans = KMeans(n_clusters=k)\n",
    "kmeans.fit(features)\n",
    "\n",
    "# Get the cluster labels for each data point\n",
    "cluster_labels = kmeans.labels_\n",
    "\n",
    "# Add the cluster labels to the DataFrame\n",
    "missing_copy['Cluster'] = cluster_labels\n",
    "\n",
    "# Define the colors for each cluster\n",
    "colors = ['b', 'g', 'r', 'y']  # Adjust the colors as needed\n",
    "\n",
    "# Create a scatter plot using Seaborn\n",
    "sns.scatterplot(x='Missing Age', y='Sex', hue='Cluster', palette=colors, data=missing_copy)\n",
    "\n",
    "# Set the labels for the x and y axes\n",
    "plt.xlabel('Missing Age')\n",
    "plt.ylabel('Sex')\n",
    "\n",
    "# Set the title for the plot\n",
    "plt.title('K-Means Clustering - Missing Age vs Sex')\n",
    "\n",
    "# Show the plot\n",
    "plt.show()"
   ]
  },
  {
   "cell_type": "markdown",
   "id": "aaf6368a-41d5-4479-9912-e6a1a110bdfd",
   "metadata": {},
   "source": [
    "### Analysis\n",
    "When comparing Missing Age and Sex there are distinct clusters within the data. Younger males and females fall into their own separate clusters, as well as older males and older females. The clusters are pretty evenly split. Less older women seem to go missing than older men, and there are also a few outliers in the red cluster at the female level. There are patterns within the data that help distinguish characteristics of cases based on Missing Age and Sex. The four groups with distiguishable characteristics include: young females, older females, young males, and older males."
   ]
  },
  {
   "cell_type": "markdown",
   "id": "3543457a-d5f3-401c-80b5-ab05f1f92689",
   "metadata": {},
   "source": [
    "# Question 4 \n",
    "Are there any discernible patterns or clusters in the relationship between 'Race / Ethnicity' and 'Missing Age' variables?"
   ]
  },
  {
   "cell_type": "code",
   "execution_count": 31,
   "id": "ad9cbe4a-53c8-455b-89c8-9a0b379890d9",
   "metadata": {},
   "outputs": [
    {
     "data": {
      "image/png": "[encoded data removed]",
      "text/plain": [
       "<Figure size 432x288 with 1 Axes>"
      ]
     },
     "metadata": {
      "needs_background": "light"
     },
     "output_type": "display_data"
    }
   ],
   "source": [
    "# Extract the necessary columns for clustering\n",
    "features = missing_copy[['Race / Ethnicity', 'Missing Age']]\n",
    "\n",
    "# Set the number of clusters\n",
    "k = 4\n",
    "\n",
    "# Perform K-means clustering\n",
    "kmeans = KMeans(n_clusters=k)\n",
    "kmeans.fit(features)\n",
    "\n",
    "# Get the cluster labels for each data point\n",
    "cluster_labels = kmeans.labels_\n",
    "\n",
    "# Add the cluster labels to the DataFrame\n",
    "missing_copy['Cluster'] = cluster_labels\n",
    "\n",
    "# Define the colors for each cluster\n",
    "colors = ['b', 'g', 'r', 'y']  # Adjust the colors as needed\n",
    "\n",
    "# Create a scatter plot using Seaborn\n",
    "sns.scatterplot(x='Race / Ethnicity', y='Missing Age', hue='Cluster', palette=colors, data=missing_copy)\n",
    "\n",
    "# Set the labels for the x and y axes\n",
    "plt.xlabel('Race / Ethnicity')\n",
    "plt.ylabel('Missing Age')\n",
    "\n",
    "# Set the title for the plot\n",
    "plt.title('K-Means Clustering - Race / Ethnicity vs Missing Age')\n",
    "\n",
    "# Show the plot\n",
    "plt.show()"
   ]
  },
  {
   "cell_type": "markdown",
   "id": "f53cac67-64d8-489c-a001-cfea3dd0b400",
   "metadata": {},
   "source": [
    "### Analysis\n",
    "There are discernible patterns or clusters in the relationship between Race/Ethnicity and Missing Age variables. Older people and younger people are split, then within that split clusters form grouping certain races/ethnicities together. There are a few outliers in the different clusters of whom are of a race/ethnicity that is not widely represented in this dataset."
   ]
  },
  {
   "cell_type": "code",
   "execution_count": null,
   "id": "aaf0ad38-c561-4f92-a902-26d97cad0c0b",
   "metadata": {},
   "outputs": [],
   "source": []
  }
 ],
 "metadata": {
  "kernelspec": {
   "display_name": "Python 3 (ipykernel)",
   "language": "python",
   "name": "python3"
  },
  "language_info": {
   "codemirror_mode": {
    "name": "ipython",
    "version": 3
   },
   "file_extension": ".py",
   "mimetype": "text/x-python",
   "name": "python",
   "nbconvert_exporter": "python",
   "pygments_lexer": "ipython3",
   "version": "3.9.12"
  }
 },
 "nbformat": 4,
 "nbformat_minor": 5
}
